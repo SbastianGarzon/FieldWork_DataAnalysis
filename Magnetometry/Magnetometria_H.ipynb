{
 "metadata": {
  "name": "",
  "signature": "sha256:1daea49becb98699a856d04cc4f919040eef5c8e7e304999e5dbe353c28da613"
 },
 "nbformat": 3,
 "nbformat_minor": 0,
 "worksheets": [
  {
   "cells": [
    {
     "cell_type": "heading",
     "level": 1,
     "metadata": {},
     "source": [
      "Universidad de los Andes"
     ]
    },
    {
     "cell_type": "heading",
     "level": 3,
     "metadata": {},
     "source": [
      "Juan Sebastian Garzon Alvarado"
     ]
    },
    {
     "cell_type": "heading",
     "level": 3,
     "metadata": {},
     "source": [
      "Laboratorio de Geof\u00edsica"
     ]
    },
    {
     "cell_type": "heading",
     "level": 3,
     "metadata": {},
     "source": [
      "An\u00e1lisis datos magnetometr\u00eda:"
     ]
    },
    {
     "cell_type": "code",
     "collapsed": false,
     "input": [
      "%pylab inline\n",
      "%matplotlib inline\n",
      "import csv\n",
      "import os\n",
      "from IPython.display import display, Math, Latex\n",
      "import re\n",
      "from mpl_toolkits.mplot3d import axes3d\n",
      "import matplotlib.pyplot as plt\n",
      "from scipy.interpolate import griddata"
     ],
     "language": "python",
     "metadata": {},
     "outputs": [
      {
       "output_type": "stream",
       "stream": "stdout",
       "text": [
        "Populating the interactive namespace from numpy and matplotlib\n"
       ]
      }
     ],
     "prompt_number": 1
    },
    {
     "cell_type": "heading",
     "level": 1,
     "metadata": {},
     "source": [
      "Objetivo trabajo:"
     ]
    },
    {
     "cell_type": "markdown",
     "metadata": {},
     "source": [
      "En el presente trabajo se muestra el primer tratamiento computacional los datos de Magnetometr\u00eda tomados por los estudiantes del curso de geof\u00edsica de la Universidad de Los Andes, en el departamento de Tolima entre el miercoles 24 al Domingo 28 de septiembre de 2014 con el objetivo de presentar los datos de una manera m\u00e1s sencilla de analizar. A continuaci\u00f3n se encuentran los c\u00f3digos que permitieron el tratamiento de los datos de los 4 grupos que realizaron prospecciones de magnetometr\u00eda. "
     ]
    },
    {
     "cell_type": "heading",
     "level": 3,
     "metadata": {},
     "source": [
      "Grupo H:"
     ]
    },
    {
     "cell_type": "markdown",
     "metadata": {},
     "source": [
      "El grupo H realiz\u00f3 la prospeccion de magnetometr\u00eda en la zona de Armero.... etc :)"
     ]
    },
    {
     "cell_type": "code",
     "collapsed": false,
     "input": [
      "#Codigo que carga los datos del grupo H.\n",
      "f=open(\"GrupoH/DatosMagnetometria_GrupoH.csv\")\n",
      "datos= csv.reader(f,delimiter=' ')\n",
      "x=[]\n",
      "y=[]\n",
      "z=[]\n",
      "for row in datos:\n",
      "    p=float(row[0])\n",
      "    q=float(row[1])\n",
      "    r=float(row[2])\n",
      "    x.append(p)\n",
      "    y.append(q)\n",
      "    z.append(r)\n",
      "if os.path.exists('GrupoH/MagGrupoH.dat')==True:\n",
      "    os.remove('GrupoH/MagGrupoH.dat')\n",
      "for i in range(0,164):\n",
      "    FD = open('GrupoH/MagGrupoH.dat', 'a')\n",
      "    FD.write(str(x[i])+'A'+str(y[i])+' '+str(z[i])+'\\n')\n",
      "crs = open(\"GrupoH/MagGrupoH.dat\", \"r\")\n",
      "nombre=[]\n",
      "numero=[]\n",
      "\n",
      "for columns in (raw.strip().split() for raw in crs ):\n",
      "    nombre.append(columns[0])\n",
      "    numero.append(float(columns[1]))\n",
      "\n",
      "#Metodo que busca los datos repetidos y saca el promedio del valor en ese punto. \n",
      "# Esto c\u00f3digo fue tomado  de : http://stackoverflow.com/questions/7790611/average-duplicate-values-from-two-paired-lists-in-python-using-numpy \n",
      "def f_dict(listA, listB):\n",
      "    d = {}\n",
      "    for a, b in zip(listA, listB):\n",
      "        d.setdefault(a, []).append(b)\n",
      "    avg = []\n",
      "    for key in d:\n",
      "        avg.append(sum(d[key])/len(d[key]))\n",
      "    return d.keys(), avg\n",
      "nombresUnicos,Promedio= f_dict(nombre,numero)\n",
      "Xfinal=[]\n",
      "Yfinal=[]\n",
      "\n",
      "#Metodo que crea un archivo con los valores de todos los puntos. En los puntos con varias mediciones\n",
      "#... toma un promedio del valor.\n",
      "if os.path.exists('GrupoH/MagGrupoH_Prom.dat')==True:\n",
      "    os.remove('GrupoH/MagGrupoH_Prom.dat')\n",
      "for i in range (0,size(nombresUnicos)):  \n",
      "    a=nombresUnicos[i].replace(\"A\",\" \")\n",
      "    b=re.findall(r\"[+-]?\\d+(?:\\.\\d+)?\", a)\n",
      "    Xfinal.append(float(b[0]))\n",
      "    Yfinal.append(float(b[1]))\n",
      "    FD = open('GrupoH/MagGrupoH_Prom.dat', 'a')\n",
      "    FD.write(str(Xfinal[i])+' '+str(Yfinal[i])+' '+str(Promedio[i])+'\\n')\n",
      "crs = open(\"GrupoH/MagGrupoH_Prom.dat\", \"r\")\n",
      "\n",
      "#Metodo que elimina el valor m\u00e1ximo de todos los puntos.\n",
      "XsinMax=[]\n",
      "YsinMax=[]\n",
      "PromsinMax=[]\n",
      "for columns in (raw.strip().split() for raw in crs ):\n",
      "    XsinMax.append(float(columns[0]))\n",
      "    YsinMax.append(float(columns[1]))\n",
      "    PromsinMax.append(float(columns[2]))\n",
      "posicion=PromsinMax.index(max(PromsinMax))\n",
      "max(PromsinMax)\n",
      "del XsinMax[posicion]\n",
      "del YsinMax[posicion]\n",
      "del PromsinMax[posicion]\n",
      "\n",
      "#Metodo que saca el promedio de todos los datos (los que han sido promediados si repiten punto y los unicos)\n",
      "#Adicionalmente resta el valor promedio a todos los datos.\n",
      "\n",
      "Variacion=[]\n",
      "ValorPromedio=sum(PromsinMax) / float(len(PromsinMax))\n",
      "for i in range (0,size(Promedio)):\n",
      "    val=PromsinMax[i]-ValorPromedio\n",
      "    Variacion.append(val)\n"
     ],
     "language": "python",
     "metadata": {},
     "outputs": [
      {
       "ename": "NameError",
       "evalue": "name 'csv' is not defined",
       "output_type": "pyerr",
       "traceback": [
        "\u001b[0;31m---------------------------------------------------------------------------\u001b[0m\n\u001b[0;31mNameError\u001b[0m                                 Traceback (most recent call last)",
        "\u001b[0;32m<ipython-input-6-8bb435d123bf>\u001b[0m in \u001b[0;36m<module>\u001b[0;34m()\u001b[0m\n\u001b[1;32m      1\u001b[0m \u001b[0;31m#Codigo que carga los datos del grupo H.\u001b[0m\u001b[0;34m\u001b[0m\u001b[0;34m\u001b[0m\u001b[0m\n\u001b[1;32m      2\u001b[0m \u001b[0mf\u001b[0m\u001b[0;34m=\u001b[0m\u001b[0mopen\u001b[0m\u001b[0;34m(\u001b[0m\u001b[0;34m\"GrupoH/DatosMagnetometria_GrupoH.csv\"\u001b[0m\u001b[0;34m)\u001b[0m\u001b[0;34m\u001b[0m\u001b[0m\n\u001b[0;32m----> 3\u001b[0;31m \u001b[0mdatos\u001b[0m\u001b[0;34m=\u001b[0m \u001b[0mcsv\u001b[0m\u001b[0;34m.\u001b[0m\u001b[0mreader\u001b[0m\u001b[0;34m(\u001b[0m\u001b[0mf\u001b[0m\u001b[0;34m,\u001b[0m\u001b[0mdelimiter\u001b[0m\u001b[0;34m=\u001b[0m\u001b[0;34m' '\u001b[0m\u001b[0;34m)\u001b[0m\u001b[0;34m\u001b[0m\u001b[0m\n\u001b[0m\u001b[1;32m      4\u001b[0m \u001b[0mx\u001b[0m\u001b[0;34m=\u001b[0m\u001b[0;34m[\u001b[0m\u001b[0;34m]\u001b[0m\u001b[0;34m\u001b[0m\u001b[0m\n\u001b[1;32m      5\u001b[0m \u001b[0my\u001b[0m\u001b[0;34m=\u001b[0m\u001b[0;34m[\u001b[0m\u001b[0;34m]\u001b[0m\u001b[0;34m\u001b[0m\u001b[0m\n",
        "\u001b[0;31mNameError\u001b[0m: name 'csv' is not defined"
       ]
      }
     ],
     "prompt_number": 6
    },
    {
     "cell_type": "markdown",
     "metadata": {},
     "source": [
      "El grupo H realizo una prospecci\u00f3n en una cuadrilla no regular, adicionalmente durante la prospecci\u00f3n repiti\u00f3 algunos puntos por lo cual en la siguiente gr\u00e1fica se muestran los puntos con una \u00fanica medici\u00f3n con un color claro mientras que los puntos con 2 mediciones muestran un color m\u00e1s oscuro."
     ]
    },
    {
     "cell_type": "code",
     "collapsed": false,
     "input": [
      "scatter(x,y,alpha=.25,s=60,color='red')"
     ],
     "language": "python",
     "metadata": {},
     "outputs": [
      {
       "ename": "NameError",
       "evalue": "name 'scatter' is not defined",
       "output_type": "pyerr",
       "traceback": [
        "\u001b[0;31m---------------------------------------------------------------------------\u001b[0m\n\u001b[0;31mNameError\u001b[0m                                 Traceback (most recent call last)",
        "\u001b[0;32m<ipython-input-7-f607325fafcc>\u001b[0m in \u001b[0;36m<module>\u001b[0;34m()\u001b[0m\n\u001b[0;32m----> 1\u001b[0;31m \u001b[0mscatter\u001b[0m\u001b[0;34m(\u001b[0m\u001b[0mx\u001b[0m\u001b[0;34m,\u001b[0m\u001b[0my\u001b[0m\u001b[0;34m,\u001b[0m\u001b[0malpha\u001b[0m\u001b[0;34m=\u001b[0m\u001b[0;36m.25\u001b[0m\u001b[0;34m,\u001b[0m\u001b[0ms\u001b[0m\u001b[0;34m=\u001b[0m\u001b[0;36m60\u001b[0m\u001b[0;34m,\u001b[0m\u001b[0mcolor\u001b[0m\u001b[0;34m=\u001b[0m\u001b[0;34m'red'\u001b[0m\u001b[0;34m)\u001b[0m\u001b[0;34m\u001b[0m\u001b[0m\n\u001b[0m",
        "\u001b[0;31mNameError\u001b[0m: name 'scatter' is not defined"
       ]
      }
     ],
     "prompt_number": 7
    },
    {
     "cell_type": "markdown",
     "metadata": {},
     "source": [
      "A continuaci\u00f3n se muestra un gr\u00e1fico del valor de induccion magnetica en la cuadrilla realizado en base a la geometr\u00eda de la prospecci\u00f3n y tomando en cuenta todos los valores (incluso los repetidos). A simple vista se observa una superficie relativamente regular exceptuando por un valor alto en la parte derecha de la gr\u00e1fica lo cual nos indica una anomal\u00eda generada por alg\u00fan elemento que produce este cambio."
     ]
    },
    {
     "cell_type": "code",
     "collapsed": false,
     "input": [
      "fig = plt.figure(figsize=(16,8))\n",
      "ax = fig.gca(projection='3d')\n",
      "p=ax.plot_trisurf(x,y,z, cmap=cm.jet, linewidth=0.2)\n",
      "c2 = fig.colorbar(p)\n",
      "ax.set_xlabel(r'Eje X', fontsize=20)\n",
      "ax.set_ylabel(r'Eje Y', fontsize=20)\n",
      "ax.set_zlabel(r'nanoTeslas (nT)', fontsize=20)\n",
      "ax.set_title(r'Induccion magnetica en la cuadrilla',fontsize=25)"
     ],
     "language": "python",
     "metadata": {},
     "outputs": [
      {
       "ename": "NameError",
       "evalue": "name 'plt' is not defined",
       "output_type": "pyerr",
       "traceback": [
        "\u001b[0;31m---------------------------------------------------------------------------\u001b[0m\n\u001b[0;31mNameError\u001b[0m                                 Traceback (most recent call last)",
        "\u001b[0;32m<ipython-input-8-f8aa7b3a9690>\u001b[0m in \u001b[0;36m<module>\u001b[0;34m()\u001b[0m\n\u001b[0;32m----> 1\u001b[0;31m \u001b[0mfig\u001b[0m \u001b[0;34m=\u001b[0m \u001b[0mplt\u001b[0m\u001b[0;34m.\u001b[0m\u001b[0mfigure\u001b[0m\u001b[0;34m(\u001b[0m\u001b[0mfigsize\u001b[0m\u001b[0;34m=\u001b[0m\u001b[0;34m(\u001b[0m\u001b[0;36m16\u001b[0m\u001b[0;34m,\u001b[0m\u001b[0;36m8\u001b[0m\u001b[0;34m)\u001b[0m\u001b[0;34m)\u001b[0m\u001b[0;34m\u001b[0m\u001b[0m\n\u001b[0m\u001b[1;32m      2\u001b[0m \u001b[0max\u001b[0m \u001b[0;34m=\u001b[0m \u001b[0mfig\u001b[0m\u001b[0;34m.\u001b[0m\u001b[0mgca\u001b[0m\u001b[0;34m(\u001b[0m\u001b[0mprojection\u001b[0m\u001b[0;34m=\u001b[0m\u001b[0;34m'3d'\u001b[0m\u001b[0;34m)\u001b[0m\u001b[0;34m\u001b[0m\u001b[0m\n\u001b[1;32m      3\u001b[0m \u001b[0mp\u001b[0m\u001b[0;34m=\u001b[0m\u001b[0max\u001b[0m\u001b[0;34m.\u001b[0m\u001b[0mplot_trisurf\u001b[0m\u001b[0;34m(\u001b[0m\u001b[0mx\u001b[0m\u001b[0;34m,\u001b[0m\u001b[0my\u001b[0m\u001b[0;34m,\u001b[0m\u001b[0mz\u001b[0m\u001b[0;34m,\u001b[0m \u001b[0mcmap\u001b[0m\u001b[0;34m=\u001b[0m\u001b[0mcm\u001b[0m\u001b[0;34m.\u001b[0m\u001b[0mjet\u001b[0m\u001b[0;34m,\u001b[0m \u001b[0mlinewidth\u001b[0m\u001b[0;34m=\u001b[0m\u001b[0;36m0.2\u001b[0m\u001b[0;34m)\u001b[0m\u001b[0;34m\u001b[0m\u001b[0m\n\u001b[1;32m      4\u001b[0m \u001b[0mc2\u001b[0m \u001b[0;34m=\u001b[0m \u001b[0mfig\u001b[0m\u001b[0;34m.\u001b[0m\u001b[0mcolorbar\u001b[0m\u001b[0;34m(\u001b[0m\u001b[0mp\u001b[0m\u001b[0;34m)\u001b[0m\u001b[0;34m\u001b[0m\u001b[0m\n\u001b[1;32m      5\u001b[0m \u001b[0max\u001b[0m\u001b[0;34m.\u001b[0m\u001b[0mset_xlabel\u001b[0m\u001b[0;34m(\u001b[0m\u001b[0;34mr'Eje X'\u001b[0m\u001b[0;34m,\u001b[0m \u001b[0mfontsize\u001b[0m\u001b[0;34m=\u001b[0m\u001b[0;36m20\u001b[0m\u001b[0;34m)\u001b[0m\u001b[0;34m\u001b[0m\u001b[0m\n",
        "\u001b[0;31mNameError\u001b[0m: name 'plt' is not defined"
       ]
      }
     ],
     "prompt_number": 8
    },
    {
     "cell_type": "markdown",
     "metadata": {},
     "source": [
      "El primer tratamiento de los datos consisti\u00f3 en promediar los valores de aquellos puntos (x,y) en los que se tom\u00f3 m\u00e1s de una medici\u00f3n. El resultado nos permite ver algunos cambios con la anterior gr\u00e1fica por ejemplo que , ignorando el valor alto, la superficie no es tan regular y tiene algunas zonas con anomal\u00edas 'regionales' y no \u00fanicamente 'puntuales'."
     ]
    },
    {
     "cell_type": "code",
     "collapsed": false,
     "input": [
      "fig = plt.figure(figsize=(16,8))\n",
      "ax = fig.gca(projection='3d')\n",
      "h=ax.plot_trisurf(Xfinal, Yfinal, Promedio, cmap=cm.jet, linewidth=0.2)\n",
      "c1 = fig.colorbar(h)\n",
      "ax.set_xlabel(r'Eje X', fontsize=20)\n",
      "ax.set_ylabel(r'Eje Y', fontsize=20)\n",
      "ax.set_zlabel(r'nanoTeslas (nT)', fontsize=20)\n",
      "ax.set_title(r'Valor campo magnetico (Promedio puntos repetidos)',fontsize=25)\n",
      "plt.show()"
     ],
     "language": "python",
     "metadata": {},
     "outputs": [
      {
       "ename": "NameError",
       "evalue": "name 'plt' is not defined",
       "output_type": "pyerr",
       "traceback": [
        "\u001b[0;31m---------------------------------------------------------------------------\u001b[0m\n\u001b[0;31mNameError\u001b[0m                                 Traceback (most recent call last)",
        "\u001b[0;32m<ipython-input-9-094895809b08>\u001b[0m in \u001b[0;36m<module>\u001b[0;34m()\u001b[0m\n\u001b[0;32m----> 1\u001b[0;31m \u001b[0mfig\u001b[0m \u001b[0;34m=\u001b[0m \u001b[0mplt\u001b[0m\u001b[0;34m.\u001b[0m\u001b[0mfigure\u001b[0m\u001b[0;34m(\u001b[0m\u001b[0mfigsize\u001b[0m\u001b[0;34m=\u001b[0m\u001b[0;34m(\u001b[0m\u001b[0;36m16\u001b[0m\u001b[0;34m,\u001b[0m\u001b[0;36m8\u001b[0m\u001b[0;34m)\u001b[0m\u001b[0;34m)\u001b[0m\u001b[0;34m\u001b[0m\u001b[0m\n\u001b[0m\u001b[1;32m      2\u001b[0m \u001b[0max\u001b[0m \u001b[0;34m=\u001b[0m \u001b[0mfig\u001b[0m\u001b[0;34m.\u001b[0m\u001b[0mgca\u001b[0m\u001b[0;34m(\u001b[0m\u001b[0mprojection\u001b[0m\u001b[0;34m=\u001b[0m\u001b[0;34m'3d'\u001b[0m\u001b[0;34m)\u001b[0m\u001b[0;34m\u001b[0m\u001b[0m\n\u001b[1;32m      3\u001b[0m \u001b[0mh\u001b[0m\u001b[0;34m=\u001b[0m\u001b[0max\u001b[0m\u001b[0;34m.\u001b[0m\u001b[0mplot_trisurf\u001b[0m\u001b[0;34m(\u001b[0m\u001b[0mXfinal\u001b[0m\u001b[0;34m,\u001b[0m \u001b[0mYfinal\u001b[0m\u001b[0;34m,\u001b[0m \u001b[0mPromedio\u001b[0m\u001b[0;34m,\u001b[0m \u001b[0mcmap\u001b[0m\u001b[0;34m=\u001b[0m\u001b[0mcm\u001b[0m\u001b[0;34m.\u001b[0m\u001b[0mjet\u001b[0m\u001b[0;34m,\u001b[0m \u001b[0mlinewidth\u001b[0m\u001b[0;34m=\u001b[0m\u001b[0;36m0.2\u001b[0m\u001b[0;34m)\u001b[0m\u001b[0;34m\u001b[0m\u001b[0m\n\u001b[1;32m      4\u001b[0m \u001b[0mc1\u001b[0m \u001b[0;34m=\u001b[0m \u001b[0mfig\u001b[0m\u001b[0;34m.\u001b[0m\u001b[0mcolorbar\u001b[0m\u001b[0;34m(\u001b[0m\u001b[0mh\u001b[0m\u001b[0;34m)\u001b[0m\u001b[0;34m\u001b[0m\u001b[0m\n\u001b[1;32m      5\u001b[0m \u001b[0max\u001b[0m\u001b[0;34m.\u001b[0m\u001b[0mset_xlabel\u001b[0m\u001b[0;34m(\u001b[0m\u001b[0;34mr'Eje X'\u001b[0m\u001b[0;34m,\u001b[0m \u001b[0mfontsize\u001b[0m\u001b[0;34m=\u001b[0m\u001b[0;36m20\u001b[0m\u001b[0;34m)\u001b[0m\u001b[0;34m\u001b[0m\u001b[0m\n",
        "\u001b[0;31mNameError\u001b[0m: name 'plt' is not defined"
       ]
      }
     ],
     "prompt_number": 9
    },
    {
     "cell_type": "code",
     "collapsed": false,
     "input": [
      "fig = plt.figure(figsize=(16,8))\n",
      "ax = fig.gca(projection='3d')\n",
      "p1=ax.plot_trisurf(XsinMax, YsinMax, PromsinMax, cmap=cm.jet, linewidth=0.2)\n",
      "c1 = fig.colorbar(p1)\n",
      "ax.set_xlabel('Eje X', fontsize=20)\n",
      "ax.set_ylabel('Eje Y', fontsize=20)\n",
      "ax.set_zlabel('nanoTeslas (nT)', fontsize=20)\n",
      "ax.set_title('Campo magnetico ignorando valor maximo',fontsize=25)\n",
      "plt.show()"
     ],
     "language": "python",
     "metadata": {},
     "outputs": []
    },
    {
     "cell_type": "code",
     "collapsed": false,
     "input": [
      "fig = plt.figure(figsize=(16,8))\n",
      "ax = fig.gca(projection='3d')\n",
      "ax.plot_trisurf(Xfinal,Yfinal , Variacion, cmap=cm.jet, linewidth=0.2)"
     ],
     "language": "python",
     "metadata": {},
     "outputs": []
    },
    {
     "cell_type": "code",
     "collapsed": false,
     "input": [],
     "language": "python",
     "metadata": {},
     "outputs": [],
     "prompt_number": 194
    },
    {
     "cell_type": "code",
     "collapsed": false,
     "input": [],
     "language": "python",
     "metadata": {},
     "outputs": [
      {
       "metadata": {},
       "output_type": "pyout",
       "prompt_number": 169,
       "text": [
        "list"
       ]
      }
     ],
     "prompt_number": 169
    },
    {
     "cell_type": "code",
     "collapsed": false,
     "input": [],
     "language": "python",
     "metadata": {},
     "outputs": [
      {
       "metadata": {},
       "output_type": "pyout",
       "prompt_number": 170,
       "text": [
        "list"
       ]
      }
     ],
     "prompt_number": 170
    },
    {
     "cell_type": "code",
     "collapsed": false,
     "input": [],
     "language": "python",
     "metadata": {},
     "outputs": []
    }
   ],
   "metadata": {}
  }
 ]
}